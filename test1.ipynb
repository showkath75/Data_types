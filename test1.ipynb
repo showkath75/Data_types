{
 "cells": [
  {
   "cell_type": "code",
   "execution_count": 1,
   "id": "97b2ed98",
   "metadata": {},
   "outputs": [],
   "source": [
    "dict1 = {\"name\": \"Mohammad showkath ali\"}"
   ]
  },
  {
   "cell_type": "code",
   "execution_count": 2,
   "id": "16b05fb2",
   "metadata": {},
   "outputs": [
    {
     "name": "stdout",
     "output_type": "stream",
     "text": [
      "{'name': 'Mohammad showkath ali'}\n"
     ]
    }
   ],
   "source": [
    "print (dict1)"
   ]
  },
  {
   "cell_type": "code",
   "execution_count": 4,
   "id": "a8525073",
   "metadata": {},
   "outputs": [],
   "source": [
    "dict2 = {\"names\": [\"Rahimani\", \"sajida\", \"Waheed\", \"vajida\", \"Rabbani\"]}"
   ]
  },
  {
   "cell_type": "code",
   "execution_count": 5,
   "id": "e0a22ae6",
   "metadata": {},
   "outputs": [
    {
     "name": "stdout",
     "output_type": "stream",
     "text": [
      "{'names': ['Rahimani', 'sajida', 'Waheed', 'vajida', 'Rabbani']}\n"
     ]
    }
   ],
   "source": [
    "print (dict2)"
   ]
  },
  {
   "cell_type": "code",
   "execution_count": 6,
   "id": "7aa48590",
   "metadata": {},
   "outputs": [],
   "source": [
    "dict3 = {\"names\": [\"Rahimani\", \"Sajida\", \"waheed\", \"vajida\", \"Rabbani\"], \"Relations\": [\"Father\", \"mother\", \"brother\", \"sister\", \"uncle\"]}"
   ]
  },
  {
   "cell_type": "code",
   "execution_count": 7,
   "id": "1f16b8b3",
   "metadata": {},
   "outputs": [
    {
     "name": "stdout",
     "output_type": "stream",
     "text": [
      "{'names': ['Rahimani', 'Sajida', 'waheed', 'vajida', 'Rabbani'], 'Relations': ['Father', 'mother', 'brother', 'sister', 'uncle']}\n"
     ]
    }
   ],
   "source": [
    "print (dict3)"
   ]
  },
  {
   "cell_type": "code",
   "execution_count": null,
   "id": "82d08737",
   "metadata": {},
   "outputs": [],
   "source": []
  }
 ],
 "metadata": {
  "kernelspec": {
   "display_name": "Python 3 (ipykernel)",
   "language": "python",
   "name": "python3"
  },
  "language_info": {
   "codemirror_mode": {
    "name": "ipython",
    "version": 3
   },
   "file_extension": ".py",
   "mimetype": "text/x-python",
   "name": "python",
   "nbconvert_exporter": "python",
   "pygments_lexer": "ipython3",
   "version": "3.10.9"
  }
 },
 "nbformat": 4,
 "nbformat_minor": 5
}
